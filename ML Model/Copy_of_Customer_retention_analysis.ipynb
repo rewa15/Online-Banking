{
  "nbformat": 4,
  "nbformat_minor": 0,
  "metadata": {
    "colab": {
      "name": "Copy of Customer-retention-analysis.ipynb",
      "provenance": [],
      "collapsed_sections": []
    },
    "kernelspec": {
      "name": "python3",
      "display_name": "Python 3"
    }
  },
  "cells": [
    {
      "cell_type": "code",
      "metadata": {
        "id": "yaDV69XDFtFo",
        "colab_type": "code",
        "outputId": "b9fd13b0-ba23-40ad-cf07-79a0605497eb",
        "colab": {
          "base_uri": "https://localhost:8080/",
          "height": 675
        }
      },
      "source": [
        "# Part 1 - Data Preprocessing\n",
        "\n",
        "# Importing the libraries\n",
        "import numpy as np\n",
        "import matplotlib.pyplot as plt\n",
        "import pandas as pd\n",
        "from sklearn.compose import ColumnTransformer\n",
        "\n",
        "# Importing the dataset\n",
        "dataset = pd.read_csv('Churn_Modelling.csv')\n",
        "X = dataset.iloc[:, 3:13].values\n",
        "y = dataset.iloc[:, 13].values\n",
        "\n",
        "# Encoding categorical data\n",
        "from sklearn.preprocessing import LabelEncoder, OneHotEncoder\n",
        "labelencoder_X_1 = LabelEncoder()\n",
        "X[:, 1] = labelencoder_X_1.fit_transform(X[:, 1])\n",
        "labelencoder_X_2 = LabelEncoder()\n",
        "X[:, 2] = labelencoder_X_2.fit_transform(X[:, 2])\n",
        "ct = ColumnTransformer([('my_ohe', OneHotEncoder(), [1])], remainder='passthrough')\n",
        "X = ct.fit_transform(X)\n",
        "X = X[:, 1:]\n",
        "\n",
        "# Splitting the dataset into the Training set and Test set\n",
        "from sklearn.model_selection import train_test_split\n",
        "X_train, X_test, y_train, y_test = train_test_split(X, y, test_size = 0.2, random_state = 0)\n",
        "\n",
        "# Feature Scaling\n",
        "from sklearn.preprocessing import StandardScaler\n",
        "sc = StandardScaler()\n",
        "X_train = sc.fit_transform(X_train)\n",
        "X_test = sc.transform(X_test)\n",
        "\n",
        "# Importing the Keras libraries and packages\n",
        "\n",
        "import keras\n",
        "from keras.models import Sequential\n",
        "from keras.layers import Dense\n",
        "from keras.models import model_from_json\n",
        "\n",
        "# Initialising the ANN\n",
        "classifier = Sequential()\n",
        "\n",
        "# Adding the input layer and the first hidden layer\n",
        "classifier.add(Dense(output_dim = 6, init = 'uniform', activation = 'relu', input_dim = 11))\n",
        "\n",
        "# Adding the second hidden layer\n",
        "classifier.add(Dense(output_dim = 6, init = 'uniform', activation = 'relu'))\n",
        "\n",
        "# Adding the output layer\n",
        "classifier.add(Dense(output_dim = 1, init = 'uniform', activation = 'sigmoid'))\n",
        "\n",
        "# Compiling the ANN\n",
        "classifier.compile(optimizer = 'adam', loss = 'binary_crossentropy', metrics = ['accuracy'])\n",
        "\n",
        "# Fitting the ANN to the Training set\n",
        "classifier.fit(X_train, y_train, batch_size = 10, nb_epoch = 10)\n",
        "\n",
        "# Part 3 - Making the predictions and evaluating the model\n",
        "\n",
        "# Predicting the Test set results\n",
        "y_pred = classifier.predict(X_test)\n",
        "print(\"The predicted values on test set are as follows:- \\n\")\n",
        "print(y_pred)\n",
        "y_pred = (y_pred > 0.5)\n",
        "\n",
        "# Create the model\n",
        "classifier_json = classifier.to_json()\n",
        "with open(\"classifier.json\", \"w\") as json_file:\n",
        "    json_file.write(classifier_json)\n",
        "\n",
        "# serialize weights to HDF5\n",
        "classifier.save_weights(\"classifier.h5\")\n",
        "print(\"Saved model to disk\")\n",
        "\n",
        "\n",
        "# Making the Confusion Matrix\n",
        "from sklearn.metrics import confusion_matrix\n",
        "cm = confusion_matrix(y_test, y_pred)\n",
        "\n",
        "print(\"The confusion matrix to test the performance of the network on test set are as follows:- \\n\")\n",
        "print(cm)"
      ],
      "execution_count": 0,
      "outputs": [
        {
          "output_type": "stream",
          "text": [
            "/usr/local/lib/python3.6/dist-packages/ipykernel_launcher.py:45: UserWarning: Update your `Dense` call to the Keras 2 API: `Dense(activation=\"relu\", input_dim=11, units=6, kernel_initializer=\"uniform\")`\n",
            "/usr/local/lib/python3.6/dist-packages/ipykernel_launcher.py:48: UserWarning: Update your `Dense` call to the Keras 2 API: `Dense(activation=\"relu\", units=6, kernel_initializer=\"uniform\")`\n",
            "/usr/local/lib/python3.6/dist-packages/ipykernel_launcher.py:51: UserWarning: Update your `Dense` call to the Keras 2 API: `Dense(activation=\"sigmoid\", units=1, kernel_initializer=\"uniform\")`\n",
            "/usr/local/lib/python3.6/dist-packages/ipykernel_launcher.py:57: UserWarning: The `nb_epoch` argument in `fit` has been renamed `epochs`.\n"
          ],
          "name": "stderr"
        },
        {
          "output_type": "stream",
          "text": [
            "Epoch 1/10\n",
            "8000/8000 [==============================] - 1s 123us/step - loss: 0.4811 - accuracy: 0.7960\n",
            "Epoch 2/10\n",
            "8000/8000 [==============================] - 1s 107us/step - loss: 0.4278 - accuracy: 0.7960\n",
            "Epoch 3/10\n",
            "8000/8000 [==============================] - 1s 105us/step - loss: 0.4219 - accuracy: 0.8005\n",
            "Epoch 4/10\n",
            "8000/8000 [==============================] - 1s 105us/step - loss: 0.4179 - accuracy: 0.8221\n",
            "Epoch 5/10\n",
            "8000/8000 [==============================] - 1s 110us/step - loss: 0.4155 - accuracy: 0.8267\n",
            "Epoch 6/10\n",
            "8000/8000 [==============================] - 1s 111us/step - loss: 0.4138 - accuracy: 0.8298\n",
            "Epoch 7/10\n",
            "8000/8000 [==============================] - 1s 106us/step - loss: 0.4127 - accuracy: 0.8304\n",
            "Epoch 8/10\n",
            "8000/8000 [==============================] - 1s 111us/step - loss: 0.4111 - accuracy: 0.8314\n",
            "Epoch 9/10\n",
            "8000/8000 [==============================] - 1s 106us/step - loss: 0.4099 - accuracy: 0.8331\n",
            "Epoch 10/10\n",
            "8000/8000 [==============================] - 1s 115us/step - loss: 0.4093 - accuracy: 0.8332\n",
            "The predicted values on test set are as follows:- \n",
            "\n",
            "[[0.24928531]\n",
            " [0.32713968]\n",
            " [0.222117  ]\n",
            " ...\n",
            " [0.19185981]\n",
            " [0.17798573]\n",
            " [0.12610653]]\n",
            "Saved model to disk\n",
            "The confusion matrix to test the performance of the network on test set are as follows:- \n",
            "\n",
            "[[1562   33]\n",
            " [ 290  115]]\n"
          ],
          "name": "stdout"
        }
      ]
    },
    {
      "cell_type": "code",
      "metadata": {
        "id": "ezUy7Wk4bPJS",
        "colab_type": "code",
        "outputId": "f1c216d4-27cf-4b2e-c20b-b67dddfe33f9",
        "colab": {
          "base_uri": "https://localhost:8080/",
          "height": 134
        }
      },
      "source": [
        "# load json and create model\n",
        "json_file = open('classifier.json', 'r')\n",
        "loaded_model_json = json_file.read()\n",
        "json_file.close()\n",
        "loaded_model = model_from_json(loaded_model_json)\n",
        "\n",
        "# load weights into new model\n",
        "loaded_model.load_weights(\"classifier.h5\")\n",
        "\n",
        "y_pr = loaded_model.predict(X_test)\n",
        "y_pr = (y_pr > 0.2)\n",
        "print(y_pr)"
      ],
      "execution_count": 0,
      "outputs": [
        {
          "output_type": "stream",
          "text": [
            "[[ True]\n",
            " [ True]\n",
            " [ True]\n",
            " ...\n",
            " [False]\n",
            " [False]\n",
            " [False]]\n"
          ],
          "name": "stdout"
        }
      ]
    },
    {
      "cell_type": "code",
      "metadata": {
        "id": "UuyZxcq5oYvg",
        "colab_type": "code",
        "outputId": "72b92285-3d53-4245-a8a7-d9add46e0a60",
        "colab": {
          "base_uri": "https://localhost:8080/",
          "height": 101
        }
      },
      "source": [
        "# Importing the dataset\n",
        "data = pd.read_csv('test.csv')\n",
        "X_x = data.iloc[:, 3:13].values\n",
        "y_y = data.iloc[:, 13].values\n",
        "\n",
        "# Encoding categorical data\n",
        "from sklearn.preprocessing import LabelEncoder, OneHotEncoder\n",
        "labelencoder_X_1 = LabelEncoder()\n",
        "X_x[:, 1] = labelencoder_X_1.fit_transform(X_x[:, 1])\n",
        "labelencoder_X_2 = LabelEncoder()\n",
        "X_x[:, 2] = labelencoder_X_2.fit_transform(X_x[:, 2])\n",
        "ct = ColumnTransformer([('my_ohe', OneHotEncoder(), [1])], remainder='passthrough')\n",
        "X_x = ct.fit_transform(X_x)\n",
        "X_x = X_x[:, 1:]\n",
        "\n",
        "\n",
        "from sklearn.model_selection import train_test_split\n",
        "X_tr, X_te, y_tr, y_te = train_test_split(X_x, y_y, test_size = 0.1, random_state = 0)\n",
        "\n",
        "# Feature Scaling\n",
        "from sklearn.preprocessing import StandardScaler\n",
        "sc = StandardScaler()\n",
        "X_tr = sc.fit_transform(X_tr)\n",
        "X_te = sc.transform(X_te)\n",
        "\n",
        "# load json and create model\n",
        "json_file = open('classifier.json', 'r')\n",
        "loaded_model_json_test = json_file.read()\n",
        "json_file.close()\n",
        "loaded_model_test = model_from_json(loaded_model_json_test)\n",
        "\n",
        "# load weights into new model\n",
        "loaded_model_test.load_weights(\"classifier.h5\")\n",
        "\n",
        "y_pr_test = loaded_model_test.predict(X_te)\n",
        "y_pr_test = (y_pr_test > 0.3)\n",
        "print(y_pr_test)"
      ],
      "execution_count": 0,
      "outputs": [
        {
          "output_type": "stream",
          "text": [
            "[[False]\n",
            " [False]\n",
            " [False]\n",
            " [False]\n",
            " [ True]]\n"
          ],
          "name": "stdout"
        }
      ]
    },
    {
      "cell_type": "markdown",
      "metadata": {
        "id": "Ou7oUsWjFbSc",
        "colab_type": "text"
      },
      "source": [
        ""
      ]
    }
  ]
}